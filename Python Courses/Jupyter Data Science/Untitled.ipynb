{
 "cells": [
  {
   "cell_type": "code",
   "execution_count": 9,
   "metadata": {
    "collapsed": false
   },
   "outputs": [
    {
     "data": {
      "text/html": [
       "<div>\n",
       "<table border=\"1\" class=\"dataframe\">\n",
       "  <thead>\n",
       "    <tr style=\"text-align: right;\">\n",
       "      <th></th>\n",
       "      <th>W</th>\n",
       "      <th>X</th>\n",
       "      <th>Y</th>\n",
       "      <th>Z</th>\n",
       "    </tr>\n",
       "  </thead>\n",
       "  <tbody>\n",
       "    <tr>\n",
       "      <th>A</th>\n",
       "      <td>-0.273132</td>\n",
       "      <td>1.042816</td>\n",
       "      <td>0.926385</td>\n",
       "      <td>0.397040</td>\n",
       "    </tr>\n",
       "    <tr>\n",
       "      <th>B</th>\n",
       "      <td>-0.849163</td>\n",
       "      <td>-0.143778</td>\n",
       "      <td>-0.549402</td>\n",
       "      <td>-1.824444</td>\n",
       "    </tr>\n",
       "    <tr>\n",
       "      <th>C</th>\n",
       "      <td>-0.000085</td>\n",
       "      <td>0.647502</td>\n",
       "      <td>-0.161373</td>\n",
       "      <td>0.077436</td>\n",
       "    </tr>\n",
       "    <tr>\n",
       "      <th>D</th>\n",
       "      <td>0.244024</td>\n",
       "      <td>-0.086746</td>\n",
       "      <td>1.149673</td>\n",
       "      <td>0.420124</td>\n",
       "    </tr>\n",
       "    <tr>\n",
       "      <th>E</th>\n",
       "      <td>0.436037</td>\n",
       "      <td>0.827846</td>\n",
       "      <td>0.180761</td>\n",
       "      <td>-0.391279</td>\n",
       "    </tr>\n",
       "  </tbody>\n",
       "</table>\n",
       "</div>"
      ],
      "text/plain": [
       "          W         X         Y         Z\n",
       "A -0.273132  1.042816  0.926385  0.397040\n",
       "B -0.849163 -0.143778 -0.549402 -1.824444\n",
       "C -0.000085  0.647502 -0.161373  0.077436\n",
       "D  0.244024 -0.086746  1.149673  0.420124\n",
       "E  0.436037  0.827846  0.180761 -0.391279"
      ]
     },
     "execution_count": 9,
     "metadata": {},
     "output_type": "execute_result"
    }
   ],
   "source": [
    "import pandas as pd\n",
    "import numpy as np\n",
    "from numpy.random import randn\n",
    "\n",
    "dataMatrix = pd.DataFrame(\n",
    "    randn(5,4),\n",
    "    [\"A\",\"B\",\"C\",\"D\",\"E\"],\n",
    "    [\"W\",\"X\",\"Y\",\"Z\"]) #pd.DataFrame(data,row,column)\n",
    "\n",
    "dataMatrix"
   ]
  },
  {
   "cell_type": "markdown",
   "metadata": {},
   "source": [
    "# Test"
   ]
  },
  {
   "cell_type": "code",
   "execution_count": null,
   "metadata": {
    "collapsed": true
   },
   "outputs": [],
   "source": []
  }
 ],
 "metadata": {
  "kernelspec": {
   "display_name": "Python 3",
   "language": "python",
   "name": "python3"
  },
  "language_info": {
   "codemirror_mode": {
    "name": "ipython",
    "version": 3
   },
   "file_extension": ".py",
   "mimetype": "text/x-python",
   "name": "python",
   "nbconvert_exporter": "python",
   "pygments_lexer": "ipython3",
   "version": "3.6.0"
  }
 },
 "nbformat": 4,
 "nbformat_minor": 2
}
