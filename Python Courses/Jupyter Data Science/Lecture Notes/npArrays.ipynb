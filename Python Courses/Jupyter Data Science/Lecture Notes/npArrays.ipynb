{
 "cells": [
  {
   "cell_type": "markdown",
   "metadata": {},
   "source": [
    "# NumPy Arrays"
   ]
  },
  {
   "cell_type": "code",
   "execution_count": 2,
   "metadata": {
    "collapsed": false
   },
   "outputs": [
    {
     "name": "stdout",
     "output_type": "stream",
     "text": [
      "[1 2 3]\n"
     ]
    }
   ],
   "source": [
    "import numpy as np\n",
    "\n",
    "#Convert list to np.array\n",
    "my_list = [1,2,3]\n",
    "\n",
    "arr = np.array(my_list)\n",
    "\n",
    "print(arr)"
   ]
  },
  {
   "cell_type": "code",
   "execution_count": 5,
   "metadata": {
    "collapsed": false
   },
   "outputs": [
    {
     "data": {
      "text/plain": [
       "array([[1, 2, 3],\n",
       "       [4, 5, 6],\n",
       "       [7, 8, 9]])"
      ]
     },
     "execution_count": 5,
     "metadata": {},
     "output_type": "execute_result"
    }
   ],
   "source": [
    "#Casting list to 2D array\n",
    "my_mat = [[1,2,3],[4,5,6],[7,8,9]]\n",
    "\n",
    "np.array(my_mat)"
   ]
  },
  {
   "cell_type": "code",
   "execution_count": 10,
   "metadata": {
    "collapsed": false
   },
   "outputs": [
    {
     "data": {
      "text/plain": [
       "array([[ 1.,  0.,  0.,  0.],\n",
       "       [ 0.,  1.,  0.,  0.],\n",
       "       [ 0.,  0.,  1.,  0.],\n",
       "       [ 0.,  0.,  0.,  1.]])"
      ]
     },
     "execution_count": 10,
     "metadata": {},
     "output_type": "execute_result"
    }
   ],
   "source": [
    "#Creating an np arrays\n",
    "\n",
    "np.arange(0,10)\n",
    "\n",
    "np.zeros(3) #creates array of zeros\n",
    "\n",
    "np.zeros((2,3)) #2 by 3 array of zeros\n",
    "\n",
    "np.ones((2,3)) #... of ones\n",
    "\n",
    "np.linspace(0,5,10) #one dim vector of 10 evenly spaced points from 0 to 5\n",
    "\n",
    "np.eye(4) #4x4 matrix with diagonal of 1s "
   ]
  },
  {
   "cell_type": "code",
   "execution_count": 18,
   "metadata": {
    "collapsed": false
   },
   "outputs": [
    {
     "data": {
      "text/plain": [
       "array([ 8, 96, 38, 37, 50, 15, 93,  3, 70, 70])"
      ]
     },
     "execution_count": 18,
     "metadata": {},
     "output_type": "execute_result"
    }
   ],
   "source": [
    "#Random Sampling\n",
    "\n",
    "np.random.rand(5,5) #5x5 array of uniformly distributed random nums\n",
    "\n",
    "np.random.randn(5,5) #5x5 array of normally distributed random nums, center=0\n",
    "\n",
    "np.random.randint(1,101,10) #10 random ints from (1,101]\n"
   ]
  },
  {
   "cell_type": "code",
   "execution_count": 31,
   "metadata": {
    "collapsed": false
   },
   "outputs": [
    {
     "data": {
      "text/plain": [
       "dtype('int64')"
      ]
     },
     "execution_count": 31,
     "metadata": {},
     "output_type": "execute_result"
    }
   ],
   "source": [
    "#Array methods\n",
    "\n",
    "arr = np.arange(25)\n",
    "\n",
    "arr.shape #get the shape of the array\n",
    "\n",
    "arr.reshape(5,5) #change the dim of array to 5x5 matrix (rows x rols == elements in array)\n",
    "\n",
    "ranarray = np.random.randint(0,50,10)\n",
    "\n",
    "ranarray.max() \n",
    "\n",
    "ranarray.min()\n",
    "\n",
    "ranarray.argmax() #index of the max value\n",
    "\n",
    "ranarray.argmin() #index of the min value\n",
    "\n",
    "ranarray.dtype #get the type of the data\n",
    "\n"
   ]
  },
  {
   "cell_type": "code",
   "execution_count": null,
   "metadata": {
    "collapsed": true
   },
   "outputs": [],
   "source": []
  }
 ],
 "metadata": {
  "kernelspec": {
   "display_name": "Python 3",
   "language": "python",
   "name": "python3"
  },
  "language_info": {
   "codemirror_mode": {
    "name": "ipython",
    "version": 3
   },
   "file_extension": ".py",
   "mimetype": "text/x-python",
   "name": "python",
   "nbconvert_exporter": "python",
   "pygments_lexer": "ipython3",
   "version": "3.5.1"
  }
 },
 "nbformat": 4,
 "nbformat_minor": 2
}
