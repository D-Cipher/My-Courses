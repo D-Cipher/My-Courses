{
 "cells": [
  {
   "cell_type": "markdown",
   "metadata": {},
   "source": [
    "# Pandas Data Frames"
   ]
  },
  {
   "cell_type": "code",
   "execution_count": 32,
   "metadata": {
    "collapsed": true
   },
   "outputs": [],
   "source": [
    "import numpy as np\n",
    "import pandas as pd\n",
    "\n",
    "from numpy.random import randn"
   ]
  },
  {
   "cell_type": "code",
   "execution_count": 40,
   "metadata": {
    "collapsed": false,
    "scrolled": true
   },
   "outputs": [
    {
     "name": "stdout",
     "output_type": "stream",
     "text": [
      "          W         X         Y         Z\n",
      "A  2.706850  0.628133  0.907969  0.503826\n",
      "B  0.651118 -0.319318 -0.848077  0.605965\n",
      "C -2.018168  0.740122  0.528813 -0.589001\n",
      "D  0.188695 -0.758872 -0.933237  0.955057\n",
      "E  0.190794  1.978757  2.605967  0.683509\n"
     ]
    }
   ],
   "source": [
    "#Create a Data Frame\n",
    "np.random.seed(101)\n",
    "\n",
    "dataMatrix = pd.DataFrame(\n",
    "    randn(5,4),\n",
    "    [\"A\",\"B\",\"C\",\"D\",\"E\"],\n",
    "    [\"W\",\"X\",\"Y\",\"Z\"]) #pd.DataFrame(data,row,column)\n",
    "\n",
    "print(dataMatrix)"
   ]
  },
  {
   "cell_type": "code",
   "execution_count": 42,
   "metadata": {
    "collapsed": false
   },
   "outputs": [
    {
     "data": {
      "text/plain": [
       "-0.84807698340363147"
      ]
     },
     "execution_count": 42,
     "metadata": {},
     "output_type": "execute_result"
    }
   ],
   "source": [
    "#Indexing data frames\n",
    "\n",
    "dataMatrix[\"W\"] #Select columns\n",
    "dataMatrix[[\"W\",\"Z\"]] #get multiple columns\n",
    "\n",
    "dataMatrix.loc[\"C\"] #Select row with label\n",
    "dataMatrix.iloc[2] #Select row with index\n",
    "\n",
    "dataMatrix.loc[\"B\",\"Y\"] #get cell [row,col]\n",
    "dataMatrix.loc[[\"A\",\"B\"],[\"W\",\"Y\"]] #subset of data frame\n"
   ]
  },
  {
   "cell_type": "code",
   "execution_count": null,
   "metadata": {
    "collapsed": true
   },
   "outputs": [],
   "source": [
    "#Changing columns and rows\n",
    "dataMatrix[\"sumYZ\"] = dataMatrix[\"Y\"] + dataMatrix[\"Z\"]\n",
    "\n",
    "dataMatrix.drop(\"W\", axis=1, inplace=True) #axis=1 specifies columns, inplace specify apply changes to dataframe\n",
    "\n",
    "dataMatrix.drop(\"E\", axis=0) #drops row, but did not apply to matrix\n",
    "\n"
   ]
  },
  {
   "cell_type": "code",
   "execution_count": null,
   "metadata": {
    "collapsed": true
   },
   "outputs": [],
   "source": []
  }
 ],
 "metadata": {
  "kernelspec": {
   "display_name": "Python 3",
   "language": "python",
   "name": "python3"
  },
  "language_info": {
   "codemirror_mode": {
    "name": "ipython",
    "version": 3
   },
   "file_extension": ".py",
   "mimetype": "text/x-python",
   "name": "python",
   "nbconvert_exporter": "python",
   "pygments_lexer": "ipython3",
   "version": "3.6.0"
  }
 },
 "nbformat": 4,
 "nbformat_minor": 2
}
