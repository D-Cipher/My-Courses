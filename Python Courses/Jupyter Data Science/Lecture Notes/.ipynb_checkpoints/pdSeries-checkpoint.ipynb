{
 "cells": [
  {
   "cell_type": "markdown",
   "metadata": {},
   "source": [
    "# Pandas Series"
   ]
  },
  {
   "cell_type": "code",
   "execution_count": 3,
   "metadata": {
    "collapsed": true
   },
   "outputs": [],
   "source": [
    "import numpy as np\n",
    "import pandas as pd"
   ]
  },
  {
   "cell_type": "code",
   "execution_count": 33,
   "metadata": {
    "collapsed": false
   },
   "outputs": [
    {
     "name": "stdout",
     "output_type": "stream",
     "text": [
      "USA        1\n",
      "Germany    2\n",
      "USSR       3\n",
      "Japan      4\n",
      "dtype: int64\n"
     ]
    }
   ],
   "source": [
    "# Creating a series\n",
    "labels = [\"a\",\"b\",\"c\"]\n",
    "myData = np.array([10,20,30])\n",
    "pd.Series(data=myData, index=labels)\n",
    "\n",
    "dataDict = {\"a\":10, \"b\":20, \"c\":30}\n",
    "pd.Series(dataDict)\n",
    "\n",
    "countries1 = pd.Series([1,2,3,4],[\"USA\", \"Germany\", \"USSR\",\"Japan\"])\n",
    "countries2 = pd.Series([1,2,5,4],[\"USA\", \"Germany\", \"Italy\",\"Japan\"])\n",
    "\n",
    "print(countries1)\n",
    "\n",
    "#Idexing series\n",
    "\n",
    "countries1[1]\n",
    "countries1 + countries2"
   ]
  },
  {
   "cell_type": "code",
   "execution_count": null,
   "metadata": {
    "collapsed": true
   },
   "outputs": [],
   "source": [
    "\n",
    "\n",
    "\n",
    "\n",
    "\n",
    "\n",
    "\n",
    "\n",
    "\n",
    "\n",
    "\n",
    "\n",
    "\n",
    "\n",
    "\n"
   ]
  }
 ],
 "metadata": {
  "kernelspec": {
   "display_name": "Python 3",
   "language": "python",
   "name": "python3"
  },
  "language_info": {
   "codemirror_mode": {
    "name": "ipython",
    "version": 3
   },
   "file_extension": ".py",
   "mimetype": "text/x-python",
   "name": "python",
   "nbconvert_exporter": "python",
   "pygments_lexer": "ipython3",
   "version": "3.6.0"
  }
 },
 "nbformat": 4,
 "nbformat_minor": 2
}
