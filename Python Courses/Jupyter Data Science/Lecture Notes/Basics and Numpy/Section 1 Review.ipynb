{
 "cells": [
  {
   "cell_type": "markdown",
   "metadata": {},
   "source": [
    "# Review"
   ]
  },
  {
   "cell_type": "code",
   "execution_count": 12,
   "metadata": {
    "collapsed": false,
    "scrolled": false
   },
   "outputs": [
    {
     "name": "stdout",
     "output_type": "stream",
     "text": [
      "[1, 4, 9, 16]\n",
      "[1, 4, 9, 16]\n"
     ]
    }
   ],
   "source": [
    "#For Loops List Comprehension\n",
    "\n",
    "\"\"\"\n",
    "Write a python code that creates a new list taking the power of each value by 2\n",
    "\"\"\"\n",
    "numls = [1,2,3,4]\n",
    "\n",
    "ans = [num**2 for num in numls]\n",
    "\n",
    "numlsAlt = [1,2,3,4]\n",
    "\n",
    "ansAlt = [numlsAlt[i]**2 for i in range(len(numlsAlt))]\n",
    "\n",
    "print(ans)\n",
    "print(ansAlt)\n"
   ]
  },
  {
   "cell_type": "code",
   "execution_count": 20,
   "metadata": {
    "collapsed": false
   },
   "outputs": [
    {
     "name": "stdout",
     "output_type": "stream",
     "text": [
      "21\n",
      "21\n"
     ]
    }
   ],
   "source": [
    "#Lambda - shorthand way to write a function\n",
    "#lambda inputVar:returnOperation\n",
    "\n",
    "\n",
    "\"\"\"\n",
    "Write a function that multiplies by 3\n",
    "\"\"\"\n",
    "\n",
    "def multiply3_old(num):\n",
    "    ans = num*3\n",
    "    return ans\n",
    "    \n",
    "print(multiply3_old(7))\n",
    "\n",
    "#Now using lambda\n",
    "multiply3 = lambda num: num*3\n",
    "\n",
    "print(multiply3(7))\n"
   ]
  },
  {
   "cell_type": "code",
   "execution_count": 26,
   "metadata": {
    "collapsed": false
   },
   "outputs": [
    {
     "name": "stdout",
     "output_type": "stream",
     "text": [
      "49\n",
      "[15129, 1764, 2916, 529, 1156, 4624, 81, 64, 1024, 144, 529, 1]\n"
     ]
    }
   ],
   "source": [
    "#Map Function - preform func on each element of a list\n",
    "\n",
    "square2 = lambda num: num**2\n",
    "\n",
    "print(square2(7))\n",
    "\n",
    "seq = [123,42,54,23,34,68,9,8,32,12,23,1]\n",
    "\n",
    "ans = list(map(square2, seq))\n",
    "\n",
    "print(ans)\n",
    "\n",
    "\n"
   ]
  },
  {
   "cell_type": "code",
   "execution_count": 28,
   "metadata": {
    "collapsed": false
   },
   "outputs": [
    {
     "name": "stdout",
     "output_type": "stream",
     "text": [
      "[2, 4, 6, 8, 10]\n"
     ]
    }
   ],
   "source": [
    "#Filter - returns the elements that meets the criteria of a function\n",
    "\n",
    "getEven = lambda num: num % 2 == 0\n",
    "\n",
    "seq = [1,2,3,4,5,6,7,8,9,10]\n",
    "\n",
    "ans = list(filter(getEven,seq))\n",
    "\n",
    "print(ans)"
   ]
  },
  {
   "cell_type": "code",
   "execution_count": 51,
   "metadata": {
    "collapsed": false,
    "scrolled": true
   },
   "outputs": [
    {
     "name": "stdout",
     "output_type": "stream",
     "text": [
      "[1 2 3 4]\n",
      "[[2 3]\n",
      " [5 6]]\n",
      "[1 4 7]\n",
      "[[ 0  1  2  3  4  5  6  7  8  9]\n",
      " [10 11 12 13 14 15 16 17 18 19]\n",
      " [20 21 22 23 24 25 26 27 28 29]\n",
      " [30 31 32 33 34 35 36 37 38 39]\n",
      " [40 41 42 43 44 45 46 47 48 49]]\n"
     ]
    }
   ],
   "source": [
    "#Numpy array Indexing\n",
    "import numpy as np\n",
    "\n",
    "my_list = [1,2,3,4]\n",
    "\n",
    "arr = np.array(my_list)\n",
    "\n",
    "my_matrix = [[1,2,3],\n",
    "             [4,5,6],\n",
    "             [7,8,9]]\n",
    "\n",
    "np_matrix = np.array(my_matrix)\n",
    "\n",
    "np_matrix[0:2,1:3]\n",
    "\n",
    "np_matrix[:,0]\n",
    "\n",
    "#Conditional Indexing\n",
    "\n",
    "numls = np.arange(1,11)\n",
    "\n",
    "greater5 = numls > 5 #create array of bool where element > 5\n",
    "\n",
    "numls[greater5] #create an array where elements meet bool criteria\n",
    "\n",
    "numls[numls > 5] #shorthand\n"
   ]
  },
  {
   "cell_type": "code",
   "execution_count": 72,
   "metadata": {
    "collapsed": false
   },
   "outputs": [
    {
     "name": "stdout",
     "output_type": "stream",
     "text": [
      "[[ 1  2  3  4  5]\n",
      " [ 6  7  8  9 10]\n",
      " [11 12 13 14 15]\n",
      " [16 17 18 19 20]\n",
      " [21 22 23 24 25]]\n"
     ]
    },
    {
     "data": {
      "text/plain": [
       "array([[ 3,  4,  5],\n",
       "       [ 8,  9, 10],\n",
       "       [13, 14, 15],\n",
       "       [18, 19, 20],\n",
       "       [23, 24, 25]])"
      ]
     },
     "execution_count": 72,
     "metadata": {},
     "output_type": "execute_result"
    }
   ],
   "source": [
    "#npArrays Methods\n",
    "import numpy as np\n",
    "\n",
    "#Creating npArrays\n",
    "np.arange(0,10) #creates array 1 to 9\n",
    "\n",
    "np.zeros(3) #creates array of zeros\n",
    "\n",
    "np.zeros((2,3)) #2 by 3 matrix of zeros\n",
    "\n",
    "np.ones((2,3)) #2 by 3 matrix of ones\n",
    "\n",
    "np.linspace(0,5,10) #one dim vector of 10 evenly spaced points from 0 to 5\n",
    "\n",
    "np.eye(4) #4x4 matrix with diagonal of 1s\n",
    "\n",
    "#npArray Operations\n",
    "numls = np.arange(50)\n",
    "\n",
    "numls.shape #get the shape of the array\n",
    "\n",
    "numls_matrix = numls.reshape(5,10) #change the dim of array to 5x5 matrix (rows x rols == elements in array)\n",
    "\n",
    "numls_matrix.max()\n",
    "\n",
    "numls_matrix.min()\n",
    "\n",
    "numls_matrix.argmax() #index of the max value\n",
    "\n",
    "numls_matrix.argmin() #index of the min value\n",
    "\n",
    "numls_matrix.dtype #get the data type\n",
    "\n",
    "matrix_copy = numls_matrix.copy() #creates a new copy of the array\n",
    "\n",
    "\"\"\"\n",
    "Practice: create a matrix 5x5 of values 1 to 50 and get the columns 3 to end.\n",
    "\"\"\"\n",
    "\n",
    "matrix5x5 = np.arange(1,26).reshape(5,5)\n",
    "\n",
    "print(matrix5x5)\n",
    "\n",
    "matrix5x5[:,2:]\n"
   ]
  },
  {
   "cell_type": "code",
   "execution_count": 77,
   "metadata": {
    "collapsed": false
   },
   "outputs": [
    {
     "data": {
      "text/plain": [
       "array([[ -9.36796162e-01,   1.51464518e-01,  -3.31744986e-01,\n",
       "          3.69846532e-01,   2.76871949e-01],\n",
       "       [  1.11939916e+00,   8.35123935e-01,  -9.34346623e-04,\n",
       "         -1.16949455e+00,   1.81789319e-01],\n",
       "       [  3.50974883e-01,  -1.80042787e-01,   2.96331898e-01,\n",
       "          2.12748457e+00,  -1.56802592e+00],\n",
       "       [  2.72116522e-01,  -5.08555223e-01,  -5.16297253e-01,\n",
       "          4.30928282e-01,  -1.10001119e+00],\n",
       "       [ -2.67972706e-01,   6.67834945e-01,  -4.79310125e-01,\n",
       "         -1.73018414e+00,   2.89368006e-01]])"
      ]
     },
     "execution_count": 77,
     "metadata": {},
     "output_type": "execute_result"
    }
   ],
   "source": [
    "#npArrays Randomizing\n",
    "import numpy as np\n",
    "\n",
    "np.random.randint(0,50,6) #6 random nums between 0 and 50\n",
    "\n",
    "np.random.rand(5,5) #5x5 matrix of uniformly distributed random nums\n",
    "\n",
    "np.random.randn(5,5) #5x5 matrix of normally distributed random nums, center=0\n",
    "\n"
   ]
  },
  {
   "cell_type": "code",
   "execution_count": null,
   "metadata": {
    "collapsed": true
   },
   "outputs": [],
   "source": [
    "\n",
    "\n",
    "\n",
    "\n",
    "\n",
    "\n",
    "\n",
    "\n",
    "\n",
    "\n",
    "\n",
    "\n"
   ]
  }
 ],
 "metadata": {
  "kernelspec": {
   "display_name": "Python 3",
   "language": "python",
   "name": "python3"
  },
  "language_info": {
   "codemirror_mode": {
    "name": "ipython",
    "version": 3
   },
   "file_extension": ".py",
   "mimetype": "text/x-python",
   "name": "python",
   "nbconvert_exporter": "python",
   "pygments_lexer": "ipython3",
   "version": "3.6.0"
  }
 },
 "nbformat": 4,
 "nbformat_minor": 2
}
