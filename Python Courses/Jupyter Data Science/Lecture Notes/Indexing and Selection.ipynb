{
 "cells": [
  {
   "cell_type": "markdown",
   "metadata": {},
   "source": [
    "# NumPy Indexing and Selection"
   ]
  },
  {
   "cell_type": "code",
   "execution_count": 18,
   "metadata": {
    "collapsed": false
   },
   "outputs": [
    {
     "data": {
      "text/plain": [
       "array([20, 25, 30])"
      ]
     },
     "execution_count": 18,
     "metadata": {},
     "output_type": "execute_result"
    }
   ],
   "source": [
    "import numpy as np\n",
    "\n",
    "arr = np.arange(10,50)\n",
    "\n",
    "#Indexing simple array\n",
    "\n",
    "arr[8]\n",
    "\n",
    "arr[0:5] #slicing 0 to 5\n",
    "\n",
    "arr[5:] #slicing 5 to end \n",
    "\n",
    "arr[0:5] = 100 #set elements 0 to 5 equal to 100\n",
    "\n",
    "arr_copy = arr.copy() #creates a new copy of the array\n",
    "\n",
    "\n",
    "#Indexing matrix\n",
    "\n",
    "arr2d = np.array([[5,10,15],[20,25,30],[35,40,45]])\n",
    "\n",
    "arr2d[0][0] #grabs row 0 col 0\n",
    "\n",
    "arr2d[0,0] #shorthand\n",
    "\n",
    "arr2d[:,1] #grabs all data in col 1\n",
    "\n",
    "arr2d[1,:] #grabs all data in row 1"
   ]
  },
  {
   "cell_type": "code",
   "execution_count": 22,
   "metadata": {
    "collapsed": false
   },
   "outputs": [
    {
     "data": {
      "text/plain": [
       "array([ 6,  7,  8,  9, 10])"
      ]
     },
     "execution_count": 22,
     "metadata": {},
     "output_type": "execute_result"
    }
   ],
   "source": [
    "#Conditional Indexing\n",
    "\n",
    "arr = np.arange(1,11)\n",
    "\n",
    "bool_arr = arr > 5 #create an array of bool where element > 5\n",
    "\n",
    "arr[bool_arr] #create an array where elements meet bool criteria\n",
    "\n",
    "arr[arr>5] #shorthand conditional selection\n",
    "\n"
   ]
  },
  {
   "cell_type": "code",
   "execution_count": 32,
   "metadata": {
    "collapsed": false
   },
   "outputs": [
    {
     "data": {
      "text/plain": [
       "array([[ 4,  5,  6,  7],\n",
       "       [14, 15, 16, 17],\n",
       "       [24, 25, 26, 27],\n",
       "       [34, 35, 36, 37],\n",
       "       [44, 45, 46, 47]])"
      ]
     },
     "execution_count": 32,
     "metadata": {},
     "output_type": "execute_result"
    }
   ],
   "source": [
    "#Practice: get rows 4 through 7\n",
    "\n",
    "arr2d = np.arange(50).reshape(5,10)\n",
    "\n",
    "arr2d[:,4:8]\n",
    "\n"
   ]
  }
 ],
 "metadata": {
  "kernelspec": {
   "display_name": "Python 3",
   "language": "python",
   "name": "python3"
  },
  "language_info": {
   "codemirror_mode": {
    "name": "ipython",
    "version": 3
   },
   "file_extension": ".py",
   "mimetype": "text/x-python",
   "name": "python",
   "nbconvert_exporter": "python",
   "pygments_lexer": "ipython3",
   "version": "3.5.1"
  }
 },
 "nbformat": 4,
 "nbformat_minor": 2
}
